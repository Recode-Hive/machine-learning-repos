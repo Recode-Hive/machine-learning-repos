{
 "cells": [
  {
   "cell_type": "code",
   "execution_count": 1,
   "id": "06ed934a",
   "metadata": {},
   "outputs": [
    {
     "data": {
      "text/plain": [
       "(   Sno Gender  10th % SSC Board  12th % HSC Board 12th Stream  Degree %  \\\n",
       " 0    1      M   67.00    Others   91.00    Others    Commerce     58.00   \n",
       " 1    2      M   79.33   Central   78.33    Others     Science     77.48   \n",
       " 2    3      M   65.00   Central   68.00   Central        Arts     64.00   \n",
       " 3    4      M   56.00   Central   52.00   Central     Science     52.00   \n",
       " 4    5      M   85.80   Central   73.60   Central    Commerce     73.30   \n",
       " \n",
       "   Degree stream Work exp specialisation  Mba %      status    salary  \n",
       " 0      Sci&Tech       No         Mkt&HR  58.80      Placed  270000.0  \n",
       " 1      Sci&Tech      Yes        Mkt&Fin  66.28      Placed  200000.0  \n",
       " 2     Comm&Mgmt       No        Mkt&Fin  57.80      Placed  250000.0  \n",
       " 3      Sci&Tech       No         Mkt&HR  59.43  Not Placed       NaN  \n",
       " 4     Comm&Mgmt       No        Mkt&Fin  55.50      Placed  425000.0  ,\n",
       "    Unnamed: 0  cgpa     iq  placement\n",
       " 0           0   6.8  123.0          1\n",
       " 1           1   5.9  106.0          0\n",
       " 2           2   5.3  121.0          0\n",
       " 3           3   7.4  132.0          1\n",
       " 4           4   5.8  142.0          0)"
      ]
     },
     "execution_count": 1,
     "metadata": {},
     "output_type": "execute_result"
    }
   ],
   "source": [
    "import pandas as pd\n",
    "\n",
    "# Load datasets\n",
    "file1 = 'datasets/Placement_Data_Full_Class.csv'\n",
    "file2 = 'datasets/placement-dataset.csv'\n",
    "\n",
    "data1 = pd.read_csv(file1)\n",
    "data2 = pd.read_csv(file2)\n",
    "\n",
    "# Display the first few rows of each dataset\n",
    "data1_head = data1.head()\n",
    "data2_head = data2.head()\n",
    "\n",
    "data1_head, data2_head\n"
   ]
  },
  {
   "cell_type": "code",
   "execution_count": 2,
   "id": "c4f906a8",
   "metadata": {},
   "outputs": [
    {
     "name": "stdout",
     "output_type": "stream",
     "text": [
      "  Gender  10th % SSC Board  12th % HSC Board 12th Stream  Degree %  \\\n",
      "0      M   67.00    Others   91.00    Others    Commerce     58.00   \n",
      "1      M   79.33   Central   78.33    Others     Science     77.48   \n",
      "2      M   65.00   Central   68.00   Central        Arts     64.00   \n",
      "3      M   56.00   Central   52.00   Central     Science     52.00   \n",
      "4      M   85.80   Central   73.60   Central    Commerce     73.30   \n",
      "\n",
      "  Degree stream Work exp specialisation  Mba %      status    salary  cgpa  \\\n",
      "0      Sci&Tech       No         Mkt&HR  58.80      Placed  270000.0   5.9   \n",
      "1      Sci&Tech      Yes        Mkt&Fin  66.28      Placed  200000.0   5.3   \n",
      "2     Comm&Mgmt       No        Mkt&Fin  57.80      Placed  250000.0   7.4   \n",
      "3      Sci&Tech       No         Mkt&HR  59.43  Not Placed       NaN   5.8   \n",
      "4     Comm&Mgmt       No        Mkt&Fin  55.50      Placed  425000.0   7.1   \n",
      "\n",
      "      iq  placement  \n",
      "0  106.0          0  \n",
      "1  121.0          0  \n",
      "2  132.0          1  \n",
      "3  142.0          0  \n",
      "4   48.0          1  \n"
     ]
    }
   ],
   "source": [
    "# Reset index for merging\n",
    "data1 = data1.reset_index(drop=True)\n",
    "data2 = data2.rename(columns={'Unnamed: 0': 'Sno'})\n",
    "\n",
    "# Merge on 'Sno'\n",
    "merged_data = pd.merge(data1, data2, on='Sno', how='inner')\n",
    "\n",
    "# Drop unnecessary columns\n",
    "merged_data = merged_data.drop(['Sno'], axis=1)\n",
    "\n",
    "# Display the first few rows of the merged dataset\n",
    "print(merged_data.head())\n"
   ]
  },
  {
   "cell_type": "code",
   "execution_count": 5,
   "id": "2e1707b8",
   "metadata": {},
   "outputs": [
    {
     "data": {
      "text/plain": [
       "'datasets/merged_placement_data.csv'"
      ]
     },
     "execution_count": 5,
     "metadata": {},
     "output_type": "execute_result"
    }
   ],
   "source": [
    "# Merge datasets\n",
    "data1 = data1.reset_index(drop=True)\n",
    "data2 = data2.rename(columns={'Unnamed: 0': 'Sno'})\n",
    "\n",
    "# Merge on 'Sno'\n",
    "merged_data = pd.merge(data1, data2, on='Sno', how='inner')\n",
    "\n",
    "# Drop unnecessary columns\n",
    "merged_data = merged_data.drop(['Sno'], axis=1)\n",
    "\n",
    "# Save the merged dataset to a CSV file\n",
    "merged_file_path = 'datasets/merged_placement_data.csv'\n",
    "merged_data.to_csv(merged_file_path, index=False)\n",
    "\n",
    "merged_file_path\n"
   ]
  },
  {
   "cell_type": "code",
   "execution_count": null,
   "id": "7cbf15e8",
   "metadata": {},
   "outputs": [],
   "source": []
  }
 ],
 "metadata": {
  "kernelspec": {
   "display_name": "Python 3 (ipykernel)",
   "language": "python",
   "name": "python3"
  },
  "language_info": {
   "codemirror_mode": {
    "name": "ipython",
    "version": 3
   },
   "file_extension": ".py",
   "mimetype": "text/x-python",
   "name": "python",
   "nbconvert_exporter": "python",
   "pygments_lexer": "ipython3",
   "version": "3.11.5"
  }
 },
 "nbformat": 4,
 "nbformat_minor": 5
}
