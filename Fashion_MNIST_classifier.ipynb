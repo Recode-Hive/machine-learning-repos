{
  "nbformat": 4,
  "nbformat_minor": 0,
  "metadata": {
    "colab": {
      "provenance": []
    },
    "kernelspec": {
      "name": "python3",
      "display_name": "Python 3"
    },
    "language_info": {
      "name": "python"
    }
  },
  "cells": [
    {
      "cell_type": "markdown",
      "source": [
        "# Introduction to Fashion_MNIST dataset"
      ],
      "metadata": {
        "id": "V24hK-09AP8w"
      }
    },
    {
      "cell_type": "markdown",
      "source": [
        "## Installation"
      ],
      "metadata": {
        "id": "QpmF4kp_Adfn"
      }
    },
    {
      "cell_type": "code",
      "source": [
        "# Install requirements\n",
        "!pip install -U pip\n",
        "!pip install -U setuptools wheel\n",
        "!pip install torch==2.1.2 torchvision==0.16.2 --index-url https://download.pytorch.org/whl/cpu\n",
        "!apt-get update\n",
        "!apt-get install -y graphviz graphviz-dev"
      ],
      "metadata": {
        "colab": {
          "base_uri": "https://localhost:8080/"
        },
        "id": "nTUR6V2ZAa1Y",
        "outputId": "6ab8b12c-dab0-43fb-ce71-6fe53c95d84f"
      },
      "execution_count": 1,
      "outputs": [
        {
          "output_type": "stream",
          "name": "stdout",
          "text": [
            "Requirement already satisfied: pip in /usr/local/lib/python3.10/dist-packages (24.0)\n",
            "\u001b[33mWARNING: Running pip as the 'root' user can result in broken permissions and conflicting behaviour with the system package manager. It is recommended to use a virtual environment instead: https://pip.pypa.io/warnings/venv\u001b[0m\u001b[33m\n",
            "\u001b[0mRequirement already satisfied: setuptools in /usr/local/lib/python3.10/dist-packages (70.0.0)\n",
            "Requirement already satisfied: wheel in /usr/local/lib/python3.10/dist-packages (0.43.0)\n",
            "\u001b[33mWARNING: Running pip as the 'root' user can result in broken permissions and conflicting behaviour with the system package manager. It is recommended to use a virtual environment instead: https://pip.pypa.io/warnings/venv\u001b[0m\u001b[33m\n",
            "\u001b[0mLooking in indexes: https://download.pytorch.org/whl/cpu\n",
            "Collecting torch==2.1.2\n",
            "  Using cached https://download.pytorch.org/whl/cpu/torch-2.1.2%2Bcpu-cp310-cp310-linux_x86_64.whl (184.9 MB)\n",
            "Collecting torchvision==0.16.2\n",
            "  Using cached https://download.pytorch.org/whl/cpu/torchvision-0.16.2%2Bcpu-cp310-cp310-linux_x86_64.whl (1.5 MB)\n",
            "Requirement already satisfied: filelock in /usr/local/lib/python3.10/dist-packages (from torch==2.1.2) (3.14.0)\n",
            "Requirement already satisfied: typing-extensions in /usr/local/lib/python3.10/dist-packages (from torch==2.1.2) (4.11.0)\n",
            "Requirement already satisfied: sympy in /usr/local/lib/python3.10/dist-packages (from torch==2.1.2) (1.12)\n",
            "Requirement already satisfied: networkx in /usr/local/lib/python3.10/dist-packages (from torch==2.1.2) (3.3)\n",
            "Requirement already satisfied: jinja2 in /usr/local/lib/python3.10/dist-packages (from torch==2.1.2) (3.1.4)\n",
            "Requirement already satisfied: fsspec in /usr/local/lib/python3.10/dist-packages (from torch==2.1.2) (2023.6.0)\n",
            "Requirement already satisfied: numpy in /usr/local/lib/python3.10/dist-packages (from torchvision==0.16.2) (1.25.2)\n",
            "Requirement already satisfied: requests in /usr/local/lib/python3.10/dist-packages (from torchvision==0.16.2) (2.31.0)\n",
            "Requirement already satisfied: pillow!=8.3.*,>=5.3.0 in /usr/local/lib/python3.10/dist-packages (from torchvision==0.16.2) (9.4.0)\n",
            "Requirement already satisfied: MarkupSafe>=2.0 in /usr/local/lib/python3.10/dist-packages (from jinja2->torch==2.1.2) (2.1.5)\n",
            "Requirement already satisfied: charset-normalizer<4,>=2 in /usr/local/lib/python3.10/dist-packages (from requests->torchvision==0.16.2) (3.3.2)\n",
            "Requirement already satisfied: idna<4,>=2.5 in /usr/local/lib/python3.10/dist-packages (from requests->torchvision==0.16.2) (3.7)\n",
            "Requirement already satisfied: urllib3<3,>=1.21.1 in /usr/local/lib/python3.10/dist-packages (from requests->torchvision==0.16.2) (2.0.7)\n",
            "Requirement already satisfied: certifi>=2017.4.17 in /usr/local/lib/python3.10/dist-packages (from requests->torchvision==0.16.2) (2024.2.2)\n",
            "Requirement already satisfied: mpmath>=0.19 in /usr/local/lib/python3.10/dist-packages (from sympy->torch==2.1.2) (1.3.0)\n",
            "Installing collected packages: torch, torchvision\n",
            "  Attempting uninstall: torch\n",
            "    Found existing installation: torch 2.3.0+cu121\n",
            "    Uninstalling torch-2.3.0+cu121:\n",
            "      Successfully uninstalled torch-2.3.0+cu121\n",
            "  Attempting uninstall: torchvision\n",
            "    Found existing installation: torchvision 0.18.0+cu121\n",
            "    Uninstalling torchvision-0.18.0+cu121:\n",
            "      Successfully uninstalled torchvision-0.18.0+cu121\n",
            "\u001b[31mERROR: pip's dependency resolver does not currently take into account all the packages that are installed. This behaviour is the source of the following dependency conflicts.\n",
            "torchaudio 2.3.0+cu121 requires torch==2.3.0, but you have torch 2.1.2+cpu which is incompatible.\n",
            "torchtext 0.18.0 requires torch>=2.3.0, but you have torch 2.1.2+cpu which is incompatible.\u001b[0m\u001b[31m\n",
            "\u001b[0mSuccessfully installed torch-2.1.2+cpu torchvision-0.16.2+cpu\n",
            "\u001b[33mWARNING: Running pip as the 'root' user can result in broken permissions and conflicting behaviour with the system package manager. It is recommended to use a virtual environment instead: https://pip.pypa.io/warnings/venv\u001b[0m\u001b[33m\n",
            "Hit:1 http://archive.ubuntu.com/ubuntu jammy InRelease\n",
            "Hit:2 http://archive.ubuntu.com/ubuntu jammy-updates InRelease\n",
            "Hit:3 http://archive.ubuntu.com/ubuntu jammy-backports InRelease\n",
            "Hit:4 https://cloud.r-project.org/bin/linux/ubuntu jammy-cran40/ InRelease\n",
            "Hit:5 https://developer.download.nvidia.com/compute/cuda/repos/ubuntu2204/x86_64  InRelease\n",
            "Hit:6 http://security.ubuntu.com/ubuntu jammy-security InRelease\n",
            "Hit:7 https://ppa.launchpadcontent.net/c2d4u.team/c2d4u4.0+/ubuntu jammy InRelease\n",
            "Hit:8 https://ppa.launchpadcontent.net/deadsnakes/ppa/ubuntu jammy InRelease\n",
            "Hit:9 https://ppa.launchpadcontent.net/graphics-drivers/ppa/ubuntu jammy InRelease\n",
            "Hit:10 https://ppa.launchpadcontent.net/ubuntugis/ppa/ubuntu jammy InRelease\n",
            "Reading package lists... Done\n",
            "Reading package lists... Done\n",
            "Building dependency tree... Done\n",
            "Reading state information... Done\n",
            "Note, selecting 'libgraphviz-dev' instead of 'graphviz-dev'\n",
            "graphviz is already the newest version (2.42.2-6).\n",
            "The following additional packages will be installed:\n",
            "  libgail-common libgail18 libgtk2.0-0 libgtk2.0-bin libgtk2.0-common libgvc6-plugins-gtk\n",
            "  librsvg2-common libxdot4\n",
            "Suggested packages:\n",
            "  gvfs\n",
            "The following NEW packages will be installed:\n",
            "  libgail-common libgail18 libgraphviz-dev libgtk2.0-0 libgtk2.0-bin libgtk2.0-common\n",
            "  libgvc6-plugins-gtk librsvg2-common libxdot4\n",
            "0 upgraded, 9 newly installed, 0 to remove and 51 not upgraded.\n",
            "Need to get 2,433 kB of archives.\n",
            "After this operation, 7,694 kB of additional disk space will be used.\n",
            "Get:1 http://archive.ubuntu.com/ubuntu jammy/main amd64 libgtk2.0-common all 2.24.33-2ubuntu2 [125 kB]\n",
            "Get:2 http://archive.ubuntu.com/ubuntu jammy/main amd64 libgtk2.0-0 amd64 2.24.33-2ubuntu2 [2,037 kB]\n",
            "Get:3 http://archive.ubuntu.com/ubuntu jammy/main amd64 libgail18 amd64 2.24.33-2ubuntu2 [15.9 kB]\n",
            "Get:4 http://archive.ubuntu.com/ubuntu jammy/main amd64 libgail-common amd64 2.24.33-2ubuntu2 [132 kB]\n",
            "Get:5 http://archive.ubuntu.com/ubuntu jammy/universe amd64 libxdot4 amd64 2.42.2-6 [16.4 kB]\n",
            "Get:6 http://archive.ubuntu.com/ubuntu jammy/universe amd64 libgvc6-plugins-gtk amd64 2.42.2-6 [22.6 kB]\n",
            "Get:7 http://archive.ubuntu.com/ubuntu jammy/universe amd64 libgraphviz-dev amd64 2.42.2-6 [58.5 kB]\n",
            "Get:8 http://archive.ubuntu.com/ubuntu jammy/main amd64 libgtk2.0-bin amd64 2.24.33-2ubuntu2 [7,932 B]\n",
            "Get:9 http://archive.ubuntu.com/ubuntu jammy-updates/main amd64 librsvg2-common amd64 2.52.5+dfsg-3ubuntu0.2 [17.7 kB]\n",
            "Fetched 2,433 kB in 0s (14.6 MB/s)\n",
            "Selecting previously unselected package libgtk2.0-common.\n",
            "(Reading database ... 121918 files and directories currently installed.)\n",
            "Preparing to unpack .../0-libgtk2.0-common_2.24.33-2ubuntu2_all.deb ...\n",
            "Unpacking libgtk2.0-common (2.24.33-2ubuntu2) ...\n",
            "Selecting previously unselected package libgtk2.0-0:amd64.\n",
            "Preparing to unpack .../1-libgtk2.0-0_2.24.33-2ubuntu2_amd64.deb ...\n",
            "Unpacking libgtk2.0-0:amd64 (2.24.33-2ubuntu2) ...\n",
            "Selecting previously unselected package libgail18:amd64.\n",
            "Preparing to unpack .../2-libgail18_2.24.33-2ubuntu2_amd64.deb ...\n",
            "Unpacking libgail18:amd64 (2.24.33-2ubuntu2) ...\n",
            "Selecting previously unselected package libgail-common:amd64.\n",
            "Preparing to unpack .../3-libgail-common_2.24.33-2ubuntu2_amd64.deb ...\n",
            "Unpacking libgail-common:amd64 (2.24.33-2ubuntu2) ...\n",
            "Selecting previously unselected package libxdot4:amd64.\n",
            "Preparing to unpack .../4-libxdot4_2.42.2-6_amd64.deb ...\n",
            "Unpacking libxdot4:amd64 (2.42.2-6) ...\n",
            "Selecting previously unselected package libgvc6-plugins-gtk.\n",
            "Preparing to unpack .../5-libgvc6-plugins-gtk_2.42.2-6_amd64.deb ...\n",
            "Unpacking libgvc6-plugins-gtk (2.42.2-6) ...\n",
            "Selecting previously unselected package libgraphviz-dev:amd64.\n",
            "Preparing to unpack .../6-libgraphviz-dev_2.42.2-6_amd64.deb ...\n",
            "Unpacking libgraphviz-dev:amd64 (2.42.2-6) ...\n",
            "Selecting previously unselected package libgtk2.0-bin.\n",
            "Preparing to unpack .../7-libgtk2.0-bin_2.24.33-2ubuntu2_amd64.deb ...\n",
            "Unpacking libgtk2.0-bin (2.24.33-2ubuntu2) ...\n",
            "Selecting previously unselected package librsvg2-common:amd64.\n",
            "Preparing to unpack .../8-librsvg2-common_2.52.5+dfsg-3ubuntu0.2_amd64.deb ...\n",
            "Unpacking librsvg2-common:amd64 (2.52.5+dfsg-3ubuntu0.2) ...\n",
            "Setting up libxdot4:amd64 (2.42.2-6) ...\n",
            "Setting up librsvg2-common:amd64 (2.52.5+dfsg-3ubuntu0.2) ...\n",
            "Setting up libgtk2.0-common (2.24.33-2ubuntu2) ...\n",
            "Setting up libgtk2.0-0:amd64 (2.24.33-2ubuntu2) ...\n",
            "Setting up libgvc6-plugins-gtk (2.42.2-6) ...\n",
            "Setting up libgail18:amd64 (2.24.33-2ubuntu2) ...\n",
            "Setting up libgtk2.0-bin (2.24.33-2ubuntu2) ...\n",
            "Setting up libgail-common:amd64 (2.24.33-2ubuntu2) ...\n",
            "Setting up libgraphviz-dev:amd64 (2.42.2-6) ...\n",
            "Processing triggers for libc-bin (2.35-0ubuntu3.4) ...\n",
            "/sbin/ldconfig.real: /usr/local/lib/libtbb.so.12 is not a symbolic link\n",
            "\n",
            "/sbin/ldconfig.real: /usr/local/lib/libtbbbind_2_0.so.3 is not a symbolic link\n",
            "\n",
            "/sbin/ldconfig.real: /usr/local/lib/libtbbmalloc.so.2 is not a symbolic link\n",
            "\n",
            "/sbin/ldconfig.real: /usr/local/lib/libtbbbind.so.3 is not a symbolic link\n",
            "\n",
            "/sbin/ldconfig.real: /usr/local/lib/libtbbmalloc_proxy.so.2 is not a symbolic link\n",
            "\n",
            "/sbin/ldconfig.real: /usr/local/lib/libtbbbind_2_5.so.3 is not a symbolic link\n",
            "\n",
            "Processing triggers for man-db (2.10.2-1) ...\n",
            "Processing triggers for libgdk-pixbuf-2.0-0:amd64 (2.42.8+dfsg-1ubuntu0.2) ...\n"
          ]
        }
      ]
    },
    {
      "cell_type": "markdown",
      "source": [
        "## Imports"
      ],
      "metadata": {
        "id": "at2G6LSFJSia"
      }
    },
    {
      "cell_type": "code",
      "source": [
        "## Imports ##\n",
        "import os\n",
        "import torch\n",
        "from torchvision import datasets\n",
        "from torch.utils.data import Dataset\n",
        "from torchvision.transforms import ToTensor, Lambda\n",
        "import torch.nn as nn\n",
        "from torch.utils.data import DataLoader\n",
        "import torch.nn.functional as F\n",
        "import torchvision\n",
        "import torchvision.transforms as transforms\n",
        "import matplotlib.pyplot as plt\n",
        "import numpy as np\n"
      ],
      "metadata": {
        "id": "nigtc_dzAa7x"
      },
      "execution_count": 2,
      "outputs": []
    },
    {
      "cell_type": "code",
      "source": [
        "device = torch.device('cuda' if torch.cuda.is_available() else 'cpu')\n",
        "device"
      ],
      "metadata": {
        "colab": {
          "base_uri": "https://localhost:8080/"
        },
        "id": "0SmE9h4ppPWK",
        "outputId": "79dead68-6d60-4455-b589-fe28113f5e20"
      },
      "execution_count": 3,
      "outputs": [
        {
          "output_type": "execute_result",
          "data": {
            "text/plain": [
              "device(type='cpu')"
            ]
          },
          "metadata": {},
          "execution_count": 3
        }
      ]
    },
    {
      "cell_type": "markdown",
      "source": [
        "#Load Dataset"
      ],
      "metadata": {
        "id": "utSdIND0MTse"
      }
    },
    {
      "cell_type": "code",
      "source": [
        "training_data = datasets.FashionMNIST( root=\"data\", train=True, download=True, transform=ToTensor())\n",
        "\n",
        "test_data = datasets.FashionMNIST( root=\"data\", train=False, download=True, transform=ToTensor())"
      ],
      "metadata": {
        "id": "k_w9UFXifKDA",
        "colab": {
          "base_uri": "https://localhost:8080/"
        },
        "outputId": "8e7cec21-526e-4b6e-b1c1-70edc034aa87"
      },
      "execution_count": 4,
      "outputs": [
        {
          "output_type": "stream",
          "name": "stdout",
          "text": [
            "Downloading http://fashion-mnist.s3-website.eu-central-1.amazonaws.com/train-images-idx3-ubyte.gz\n",
            "Downloading http://fashion-mnist.s3-website.eu-central-1.amazonaws.com/train-images-idx3-ubyte.gz to data/FashionMNIST/raw/train-images-idx3-ubyte.gz\n"
          ]
        },
        {
          "output_type": "stream",
          "name": "stderr",
          "text": [
            "100%|██████████| 26421880/26421880 [00:01<00:00, 19545454.33it/s]\n"
          ]
        },
        {
          "output_type": "stream",
          "name": "stdout",
          "text": [
            "Extracting data/FashionMNIST/raw/train-images-idx3-ubyte.gz to data/FashionMNIST/raw\n",
            "\n",
            "Downloading http://fashion-mnist.s3-website.eu-central-1.amazonaws.com/train-labels-idx1-ubyte.gz\n",
            "Downloading http://fashion-mnist.s3-website.eu-central-1.amazonaws.com/train-labels-idx1-ubyte.gz to data/FashionMNIST/raw/train-labels-idx1-ubyte.gz\n"
          ]
        },
        {
          "output_type": "stream",
          "name": "stderr",
          "text": [
            "100%|██████████| 29515/29515 [00:00<00:00, 360298.27it/s]\n"
          ]
        },
        {
          "output_type": "stream",
          "name": "stdout",
          "text": [
            "Extracting data/FashionMNIST/raw/train-labels-idx1-ubyte.gz to data/FashionMNIST/raw\n",
            "\n",
            "Downloading http://fashion-mnist.s3-website.eu-central-1.amazonaws.com/t10k-images-idx3-ubyte.gz\n",
            "Downloading http://fashion-mnist.s3-website.eu-central-1.amazonaws.com/t10k-images-idx3-ubyte.gz to data/FashionMNIST/raw/t10k-images-idx3-ubyte.gz\n"
          ]
        },
        {
          "output_type": "stream",
          "name": "stderr",
          "text": [
            "100%|██████████| 4422102/4422102 [00:00<00:00, 6261924.95it/s]\n"
          ]
        },
        {
          "output_type": "stream",
          "name": "stdout",
          "text": [
            "Extracting data/FashionMNIST/raw/t10k-images-idx3-ubyte.gz to data/FashionMNIST/raw\n",
            "\n",
            "Downloading http://fashion-mnist.s3-website.eu-central-1.amazonaws.com/t10k-labels-idx1-ubyte.gz\n",
            "Downloading http://fashion-mnist.s3-website.eu-central-1.amazonaws.com/t10k-labels-idx1-ubyte.gz to data/FashionMNIST/raw/t10k-labels-idx1-ubyte.gz\n"
          ]
        },
        {
          "output_type": "stream",
          "name": "stderr",
          "text": [
            "100%|██████████| 5148/5148 [00:00<00:00, 13102109.83it/s]"
          ]
        },
        {
          "output_type": "stream",
          "name": "stdout",
          "text": [
            "Extracting data/FashionMNIST/raw/t10k-labels-idx1-ubyte.gz to data/FashionMNIST/raw\n",
            "\n"
          ]
        },
        {
          "output_type": "stream",
          "name": "stderr",
          "text": [
            "\n"
          ]
        }
      ]
    },
    {
      "cell_type": "code",
      "source": [
        "labels_map = {\n",
        "    0: \"T-Shirt\",\n",
        "    1: \"Trouser\",\n",
        "    2: \"Pullover\",\n",
        "    3: \"Dress\",\n",
        "    4: \"Coat\",\n",
        "    5: \"Sandal\",\n",
        "    6: \"Shirt\",\n",
        "    7: \"Sneaker\",\n",
        "    8: \"Bag\",\n",
        "    9: \"Ankle Boot\",\n",
        "}\n",
        "figure = plt.figure(figsize=(8, 8))\n",
        "cols, rows = 3, 3\n",
        "for i in range(1, cols * rows + 1):\n",
        "    sample_idx = torch.randint(len(training_data), size=(1,)).item()\n",
        "    img, label = training_data[sample_idx]\n",
        "    figure.add_subplot(rows, cols, i)\n",
        "    plt.title(labels_map[label])\n",
        "    plt.axis(\"off\")\n",
        "    plt.imshow(img.squeeze(), cmap=\"gray\")\n",
        "plt.show()"
      ],
      "metadata": {
        "id": "35bng4GGWTVs",
        "colab": {
          "base_uri": "https://localhost:8080/",
          "height": 675
        },
        "outputId": "87017945-4e4b-4045-9f49-bac3c21c0407"
      },
      "execution_count": 5,
      "outputs": [
        {
          "output_type": "display_data",
          "data": {
            "text/plain": [
              "<Figure size 800x800 with 9 Axes>"
            ],
            "image/png": "[encoded data removed]"
          },
          "metadata": {}
        }
      ]
    },
    {
      "cell_type": "code",
      "source": [
        "train_dataloader = DataLoader(training_data, batch_size=100, shuffle=True)\n",
        "test_dataloader = DataLoader(test_data, batch_size=100, shuffle=True)"
      ],
      "metadata": {
        "id": "eCJjYbOsi6JH"
      },
      "execution_count": 6,
      "outputs": []
    },
    {
      "cell_type": "code",
      "source": [
        "# Display image and label.\n",
        "train_features, train_labels = next(iter(train_dataloader))\n",
        "print(f\"Feature batch shape: {train_features.size()}\")\n",
        "print(f\"Labels batch shape: {train_labels.size()}\")\n",
        "img = train_features[1].squeeze()\n",
        "label = train_labels[1]\n",
        "plt.imshow(img, cmap=\"gray\")\n",
        "plt.show()\n",
        "print(f\"Label: {label}\")"
      ],
      "metadata": {
        "colab": {
          "base_uri": "https://localhost:8080/",
          "height": 482
        },
        "id": "ZxjfA7zFjOMu",
        "outputId": "d4a2cd3f-7640-43c6-be45-372557a0b917"
      },
      "execution_count": 7,
      "outputs": [
        {
          "output_type": "stream",
          "name": "stdout",
          "text": [
            "Feature batch shape: torch.Size([100, 1, 28, 28])\n",
            "Labels batch shape: torch.Size([100])\n"
          ]
        },
        {
          "output_type": "display_data",
          "data": {
            "text/plain": [
              "<Figure size 640x480 with 1 Axes>"
            ],
            "image/png": "[encoded data removed]"
          },
          "metadata": {}
        },
        {
          "output_type": "stream",
          "name": "stdout",
          "text": [
            "Label: 2\n"
          ]
        }
      ]
    },
    {
      "cell_type": "markdown",
      "source": [
        "# Transforms"
      ],
      "metadata": {
        "id": "AkRwwYgcj0Sk"
      }
    },
    {
      "cell_type": "code",
      "source": [
        "ds = datasets.FashionMNIST(\n",
        "    root=\"data\",\n",
        "    train=True,\n",
        "    download=True,\n",
        "    transform=ToTensor(),\n",
        "    target_transform=Lambda(lambda y: torch.zeros(10, dtype=torch.float).scatter_(0, torch.tensor(y), value=1))\n",
        ")"
      ],
      "metadata": {
        "id": "Y2x25MFwL-OQ"
      },
      "execution_count": 8,
      "outputs": []
    },
    {
      "cell_type": "markdown",
      "source": [
        "# Build Neural Network"
      ],
      "metadata": {
        "id": "rQCekYlbq4J2"
      }
    },
    {
      "cell_type": "code",
      "source": [
        "class NeuraLeNetwork(nn.Module):\n",
        "    def __init__(self):\n",
        "        super(NeuraLeNetwork, self).__init__()\n",
        "        self.conv1 = nn.Conv2d(1, 6, 5)\n",
        "        self.pool = nn.MaxPool2d(2, 2)\n",
        "        self.conv2 = nn.Conv2d(6, 16, 5)\n",
        "        self.fc1 = nn.Linear(16 * 4 * 4, 120)\n",
        "        self.fc2 = nn.Linear(120, 84)\n",
        "        self.fc3 = nn.Linear(84, 10)\n",
        "\n",
        "    def forward(self, x):\n",
        "        x = self.pool(F.relu(self.conv1(x)))\n",
        "        x = self.pool(F.relu(self.conv2(x)))\n",
        "        x = x.view(-1, 16 * 4 * 4)\n",
        "        x = F.relu(self.fc1(x))\n",
        "        x = F.relu(self.fc2(x))\n",
        "        x = self.fc3(x)\n",
        "        return x\n",
        "#initialize\n",
        "net = NeuraLeNetwork()\n",
        "net.to(device)"
      ],
      "metadata": {
        "colab": {
          "base_uri": "https://localhost:8080/"
        },
        "id": "cmN_YOEWkRGO",
        "outputId": "2cc07f60-c808-4e68-f55a-38079f82f7f2"
      },
      "execution_count": 10,
      "outputs": [
        {
          "output_type": "execute_result",
          "data": {
            "text/plain": [
              "NeuraLeNetwork(\n",
              "  (conv1): Conv2d(1, 6, kernel_size=(5, 5), stride=(1, 1))\n",
              "  (pool): MaxPool2d(kernel_size=2, stride=2, padding=0, dilation=1, ceil_mode=False)\n",
              "  (conv2): Conv2d(6, 16, kernel_size=(5, 5), stride=(1, 1))\n",
              "  (fc1): Linear(in_features=256, out_features=120, bias=True)\n",
              "  (fc2): Linear(in_features=120, out_features=84, bias=True)\n",
              "  (fc3): Linear(in_features=84, out_features=10, bias=True)\n",
              ")"
            ]
          },
          "metadata": {},
          "execution_count": 10
        }
      ]
    },
    {
      "cell_type": "code",
      "source": [
        "s = torch.jit.script(net)\n",
        "torch.jit.save(s, \"mnistFashion_network.pt\")"
      ],
      "metadata": {
        "id": "uv5k_jfGor4-"
      },
      "execution_count": 11,
      "outputs": []
    },
    {
      "cell_type": "markdown",
      "source": [
        "Model Parameters"
      ],
      "metadata": {
        "id": "pfYGdVYFleGc"
      }
    },
    {
      "cell_type": "code",
      "source": [
        "print(f\"Model structure: {net}\\n\\n\")\n",
        "\n",
        "for name, param in net.named_parameters():\n",
        "    print(f\"Layer: {name} | Size: {param.size()} | Values : {param[:2]} \\n\")"
      ],
      "metadata": {
        "colab": {
          "base_uri": "https://localhost:8080/"
        },
        "id": "hoYPrSselhP2",
        "outputId": "d99a61ba-e3b1-47be-e4db-920aa2d2bc59"
      },
      "execution_count": 12,
      "outputs": [
        {
          "output_type": "stream",
          "name": "stdout",
          "text": [
            "Model structure: NeuraLeNetwork(\n",
            "  (conv1): Conv2d(1, 6, kernel_size=(5, 5), stride=(1, 1))\n",
            "  (pool): MaxPool2d(kernel_size=2, stride=2, padding=0, dilation=1, ceil_mode=False)\n",
            "  (conv2): Conv2d(6, 16, kernel_size=(5, 5), stride=(1, 1))\n",
            "  (fc1): Linear(in_features=256, out_features=120, bias=True)\n",
            "  (fc2): Linear(in_features=120, out_features=84, bias=True)\n",
            "  (fc3): Linear(in_features=84, out_features=10, bias=True)\n",
            ")\n",
            "\n",
            "\n",
            "Layer: conv1.weight | Size: torch.Size([6, 1, 5, 5]) | Values : tensor([[[[-0.0353,  0.1622,  0.1180, -0.0243,  0.1389],\n",
            "          [-0.1920, -0.1631, -0.1614,  0.0881, -0.1030],\n",
            "          [ 0.0304,  0.1263, -0.1659,  0.1284,  0.1567],\n",
            "          [ 0.1862,  0.0571, -0.0544, -0.0697, -0.1559],\n",
            "          [-0.1616,  0.1682, -0.1435,  0.1527, -0.0215]]],\n",
            "\n",
            "\n",
            "        [[[-0.0142,  0.0335,  0.1621, -0.1448,  0.1123],\n",
            "          [ 0.1195, -0.0119, -0.0978,  0.0199, -0.0791],\n",
            "          [-0.1302,  0.1978,  0.1088, -0.1930, -0.0926],\n",
            "          [-0.1232, -0.1090, -0.1012, -0.1880,  0.0608],\n",
            "          [ 0.1002, -0.1631, -0.0741, -0.0817, -0.1115]]]],\n",
            "       grad_fn=<SliceBackward0>) \n",
            "\n",
            "Layer: conv1.bias | Size: torch.Size([6]) | Values : tensor([0.0034, 0.0872], grad_fn=<SliceBackward0>) \n",
            "\n",
            "Layer: conv2.weight | Size: torch.Size([16, 6, 5, 5]) | Values : tensor([[[[ 0.0574, -0.0491,  0.0129,  0.0432, -0.0579],\n",
            "          [ 0.0041,  0.0451,  0.0424,  0.0581,  0.0364],\n",
            "          [ 0.0402, -0.0434, -0.0229,  0.0511, -0.0095],\n",
            "          [ 0.0303,  0.0576,  0.0642, -0.0088,  0.0309],\n",
            "          [-0.0177, -0.0547,  0.0391, -0.0138, -0.0696]],\n",
            "\n",
            "         [[ 0.0324,  0.0484,  0.0693, -0.0639,  0.0647],\n",
            "          [-0.0575, -0.0121, -0.0149, -0.0103,  0.0379],\n",
            "          [-0.0234, -0.0151, -0.0227,  0.0114,  0.0011],\n",
            "          [ 0.0416,  0.0597, -0.0648,  0.0123,  0.0583],\n",
            "          [ 0.0751, -0.0557,  0.0514,  0.0151, -0.0750]],\n",
            "\n",
            "         [[-0.0172, -0.0601,  0.0368, -0.0097,  0.0746],\n",
            "          [-0.0604, -0.0572,  0.0617, -0.0278,  0.0503],\n",
            "          [-0.0697,  0.0756,  0.0425,  0.0807, -0.0670],\n",
            "          [-0.0811, -0.0362, -0.0537,  0.0534, -0.0581],\n",
            "          [-0.0566, -0.0080,  0.0190, -0.0248, -0.0525]],\n",
            "\n",
            "         [[-0.0584, -0.0704, -0.0331, -0.0555,  0.0201],\n",
            "          [-0.0586, -0.0653,  0.0310,  0.0368,  0.0391],\n",
            "          [-0.0443,  0.0311,  0.0508,  0.0244,  0.0640],\n",
            "          [-0.0094,  0.0198,  0.0057, -0.0531, -0.0188],\n",
            "          [ 0.0514, -0.0552, -0.0670, -0.0330, -0.0029]],\n",
            "\n",
            "         [[-0.0543,  0.0584,  0.0355,  0.0334,  0.0633],\n",
            "          [-0.0758, -0.0707,  0.0513,  0.0754,  0.0517],\n",
            "          [ 0.0764, -0.0009, -0.0345, -0.0423,  0.0765],\n",
            "          [-0.0518, -0.0757,  0.0304,  0.0304,  0.0186],\n",
            "          [-0.0136, -0.0106, -0.0775,  0.0654, -0.0248]],\n",
            "\n",
            "         [[ 0.0240, -0.0809,  0.0476,  0.0445, -0.0742],\n",
            "          [-0.0260, -0.0468,  0.0734, -0.0281, -0.0122],\n",
            "          [ 0.0213, -0.0052,  0.0812,  0.0732, -0.0701],\n",
            "          [-0.0178,  0.0238,  0.0526, -0.0032, -0.0392],\n",
            "          [-0.0120,  0.0711, -0.0104,  0.0066,  0.0772]]],\n",
            "\n",
            "\n",
            "        [[[-0.0159, -0.0730, -0.0727, -0.0691,  0.0352],\n",
            "          [ 0.0449, -0.0501,  0.0747, -0.0429,  0.0360],\n",
            "          [-0.0512, -0.0556,  0.0266,  0.0636, -0.0647],\n",
            "          [-0.0443, -0.0785,  0.0635, -0.0015, -0.0606],\n",
            "          [ 0.0575,  0.0293, -0.0746, -0.0402,  0.0653]],\n",
            "\n",
            "         [[ 0.0061, -0.0146, -0.0686, -0.0424, -0.0270],\n",
            "          [ 0.0152,  0.0606,  0.0520,  0.0244, -0.0225],\n",
            "          [ 0.0132,  0.0783, -0.0494, -0.0382,  0.0338],\n",
            "          [ 0.0443,  0.0710, -0.0245, -0.0490, -0.0494],\n",
            "          [ 0.0577, -0.0070,  0.0235,  0.0374,  0.0010]],\n",
            "\n",
            "         [[ 0.0542,  0.0729, -0.0350,  0.0522, -0.0600],\n",
            "          [-0.0026,  0.0016, -0.0663, -0.0568,  0.0452],\n",
            "          [ 0.0310, -0.0777, -0.0147, -0.0085,  0.0074],\n",
            "          [-0.0180,  0.0745,  0.0751, -0.0648, -0.0511],\n",
            "          [ 0.0684, -0.0310,  0.0585,  0.0169, -0.0681]],\n",
            "\n",
            "         [[-0.0640, -0.0195, -0.0446, -0.0637,  0.0009],\n",
            "          [-0.0342, -0.0738,  0.0226,  0.0717,  0.0222],\n",
            "          [ 0.0401,  0.0086,  0.0533, -0.0515, -0.0487],\n",
            "          [-0.0372, -0.0133,  0.0281, -0.0481, -0.0501],\n",
            "          [-0.0321, -0.0227, -0.0372, -0.0796,  0.0474]],\n",
            "\n",
            "         [[-0.0627,  0.0667,  0.0210, -0.0620, -0.0443],\n",
            "          [-0.0411,  0.0084,  0.0449,  0.0414,  0.0276],\n",
            "          [ 0.0004, -0.0503,  0.0438,  0.0613,  0.0403],\n",
            "          [ 0.0108,  0.0633, -0.0063, -0.0008,  0.0204],\n",
            "          [-0.0263, -0.0460, -0.0628, -0.0680, -0.0256]],\n",
            "\n",
            "         [[-0.0631, -0.0298, -0.0266,  0.0239,  0.0219],\n",
            "          [ 0.0001,  0.0351,  0.0313,  0.0265,  0.0697],\n",
            "          [ 0.0348, -0.0077,  0.0121,  0.0189, -0.0610],\n",
            "          [ 0.0492, -0.0038,  0.0146, -0.0163,  0.0509],\n",
            "          [-0.0709, -0.0303,  0.0661,  0.0447,  0.0437]]]],\n",
            "       grad_fn=<SliceBackward0>) \n",
            "\n",
            "Layer: conv2.bias | Size: torch.Size([16]) | Values : tensor([-0.0187, -0.0110], grad_fn=<SliceBackward0>) \n",
            "\n",
            "Layer: fc1.weight | Size: torch.Size([120, 256]) | Values : tensor([[-3.2151e-02, -4.0071e-02,  2.4235e-02,  4.2827e-02,  2.3320e-02,\n",
            "          4.2964e-03,  1.8811e-02, -3.3065e-02,  3.8136e-02, -4.8670e-02,\n",
            "          5.9244e-02, -4.9983e-02, -2.2976e-03, -2.4602e-02, -2.3252e-02,\n",
            "         -3.9783e-02, -1.0590e-02,  3.2736e-02,  4.0220e-02,  5.4938e-02,\n",
            "          7.7689e-03,  2.3251e-02,  4.7311e-02,  1.6154e-02, -4.0899e-02,\n",
            "          1.9819e-02,  1.7254e-02,  4.8844e-03,  6.2193e-02,  2.1833e-02,\n",
            "         -6.0383e-02,  2.2298e-02, -4.5645e-03, -3.3632e-02,  2.9480e-02,\n",
            "          2.9178e-02,  3.1171e-03, -3.1527e-02, -6.0500e-02,  6.0061e-02,\n",
            "          5.7852e-02, -3.3735e-02,  3.5943e-02,  1.3956e-02, -4.0993e-02,\n",
            "         -6.1223e-04, -5.5997e-02, -5.3626e-02,  6.2984e-03,  4.6000e-02,\n",
            "         -1.3278e-02,  1.0784e-03,  2.8174e-02,  3.7184e-02, -2.6965e-02,\n",
            "          7.3752e-03, -1.1488e-02,  5.9087e-02,  1.1992e-02, -5.1466e-02,\n",
            "         -5.0217e-02, -2.7475e-02, -6.1744e-02,  2.3252e-02,  2.9598e-02,\n",
            "          2.8149e-02,  1.5671e-02,  4.5716e-02,  1.7296e-02, -3.5893e-02,\n",
            "          5.2647e-02, -4.9956e-02,  6.1085e-02, -3.7529e-02,  1.8614e-02,\n",
            "          3.2294e-02,  7.9900e-03,  2.8522e-02, -5.0130e-02,  2.9714e-02,\n",
            "          4.3302e-02,  5.5220e-02, -4.8332e-02, -5.2235e-04,  3.1869e-02,\n",
            "         -3.1233e-02,  1.0399e-02,  1.0180e-02,  4.3170e-02, -1.4378e-02,\n",
            "         -3.2836e-02,  4.8582e-02,  1.1618e-02, -2.0269e-02,  2.4949e-02,\n",
            "          3.6514e-02, -1.2162e-02,  3.6032e-02, -4.2238e-02,  5.0465e-02,\n",
            "         -5.4151e-02, -7.9430e-03,  3.3959e-02, -6.1417e-02, -2.1792e-02,\n",
            "          6.0421e-02,  3.8397e-02, -4.8370e-03, -1.1454e-02, -1.4429e-02,\n",
            "          4.6237e-04, -1.6189e-02,  2.1289e-02,  1.9320e-02,  1.0669e-02,\n",
            "          4.9221e-02, -1.9413e-02,  4.7016e-02, -5.3404e-02,  2.8617e-02,\n",
            "         -5.7872e-02,  4.2712e-02, -2.2595e-02, -3.1565e-02,  2.1652e-03,\n",
            "         -3.3083e-02, -2.4871e-02, -2.9687e-02,  2.9458e-02, -6.1164e-02,\n",
            "          2.2263e-02, -4.3300e-02,  1.7599e-02,  3.0575e-02, -4.3967e-03,\n",
            "         -3.3008e-02, -3.2210e-02, -2.4749e-02,  1.1287e-02, -4.2784e-02,\n",
            "         -3.1520e-02, -1.4235e-02, -3.2540e-03, -5.2911e-03, -5.1954e-02,\n",
            "         -2.0634e-02, -3.8252e-02, -3.8022e-03, -5.1766e-02, -2.1626e-03,\n",
            "         -3.0168e-02,  2.3317e-02, -1.9318e-02,  1.1114e-02,  4.5904e-02,\n",
            "          2.6469e-03, -2.6456e-02,  5.4189e-02, -7.9270e-03,  9.5665e-05,\n",
            "          1.1614e-03,  1.8755e-02,  2.0910e-03,  5.2007e-02, -5.6112e-02,\n",
            "          4.8560e-02,  5.4174e-02,  5.8156e-02, -3.3120e-02,  1.7432e-02,\n",
            "         -2.7563e-02,  5.9129e-02,  1.3562e-02, -4.6786e-02, -4.2091e-02,\n",
            "         -5.6179e-02, -3.8803e-02,  3.3322e-02, -2.9316e-02, -5.9563e-03,\n",
            "          5.1888e-03, -9.9579e-03,  2.4723e-02, -4.1522e-02,  4.6763e-02,\n",
            "          5.5800e-02, -2.7194e-02,  4.0361e-02, -1.5384e-02, -5.1288e-02,\n",
            "          1.9964e-02,  6.7241e-03,  1.2734e-02,  2.5260e-02,  4.8937e-02,\n",
            "          5.5882e-02,  3.3031e-02,  6.2235e-03,  1.7736e-02,  1.4447e-02,\n",
            "         -3.1699e-03,  3.5377e-02, -4.1653e-03,  5.4930e-02, -5.3755e-02,\n",
            "          1.8803e-02,  4.2197e-02,  3.3904e-02,  2.8115e-02, -3.7086e-02,\n",
            "          1.9527e-02, -4.5182e-02, -3.0569e-02,  5.2958e-02, -3.7354e-02,\n",
            "          1.0447e-02,  2.7232e-02, -2.5954e-02, -4.6873e-02,  1.1232e-02,\n",
            "         -6.0583e-02, -3.8885e-02, -1.0916e-02, -3.0612e-02,  7.8369e-03,\n",
            "         -3.5206e-02, -1.0670e-02,  1.6849e-02, -5.6816e-02, -1.8963e-02,\n",
            "          2.7567e-02,  1.6119e-02, -2.7267e-02, -4.2590e-02,  4.2504e-02,\n",
            "         -7.9388e-04,  2.5493e-02,  1.2492e-02, -4.3189e-02,  4.0666e-02,\n",
            "          2.4096e-02, -4.1174e-02,  3.1721e-02, -3.1346e-02, -2.4891e-02,\n",
            "         -4.9504e-02, -2.7853e-02,  4.0843e-02, -7.8422e-03, -2.9310e-02,\n",
            "          5.9038e-02,  3.4588e-02,  8.7566e-03,  6.0213e-02,  1.6186e-02,\n",
            "         -3.7883e-02],\n",
            "        [-5.5884e-02,  2.2020e-02, -4.5828e-02, -5.0234e-02,  3.9704e-02,\n",
            "          3.5389e-02,  4.3244e-02,  1.2041e-02,  3.2369e-02, -2.5442e-02,\n",
            "         -4.5672e-02,  3.4103e-03, -3.6287e-02, -3.8302e-02,  9.7272e-03,\n",
            "         -6.3791e-03, -3.6810e-02, -1.0508e-02, -5.6336e-02, -4.3483e-02,\n",
            "          4.8979e-02, -5.6449e-03, -5.2633e-02,  5.7027e-02, -3.7929e-02,\n",
            "         -5.6469e-02,  1.2670e-02,  5.3614e-02, -4.1444e-02,  2.4465e-02,\n",
            "         -2.2337e-02,  9.3626e-03, -3.7319e-02,  3.6211e-02,  6.2519e-04,\n",
            "          1.0697e-02,  7.3774e-03, -3.1766e-02, -5.4834e-02,  2.6282e-04,\n",
            "         -3.2197e-02,  1.6419e-02,  6.0130e-02,  1.5010e-02,  2.9575e-02,\n",
            "          4.2605e-02,  1.7897e-02,  6.2253e-02,  4.7153e-02, -5.8681e-02,\n",
            "         -1.3614e-02, -3.1961e-02,  1.9791e-02, -1.1721e-02,  7.8905e-03,\n",
            "          3.5734e-02,  7.5319e-04,  3.9128e-02,  4.0720e-02,  1.4839e-03,\n",
            "          3.5864e-02, -2.9671e-02, -4.0862e-02, -5.0034e-02,  4.6799e-02,\n",
            "          5.5262e-02,  4.4542e-02, -6.6819e-03, -4.7534e-02, -5.5085e-02,\n",
            "         -6.7284e-03, -3.7435e-02, -2.8234e-02, -1.0639e-02,  5.4827e-02,\n",
            "          2.5291e-02,  1.1864e-02,  1.0570e-02, -2.7316e-02,  4.0555e-02,\n",
            "         -4.6915e-02,  5.9152e-02,  6.6659e-03, -5.1584e-03, -5.1722e-02,\n",
            "          4.7548e-02, -5.4525e-02,  3.3343e-02, -1.2584e-02, -1.7548e-02,\n",
            "         -3.1505e-02,  3.7851e-02, -4.0717e-02,  2.6476e-02, -5.5644e-02,\n",
            "          3.9405e-02,  1.6346e-02, -5.3655e-02, -5.2463e-02,  3.0434e-02,\n",
            "          1.2107e-02,  4.8521e-03, -1.0439e-02, -2.4612e-03, -2.5855e-02,\n",
            "         -7.9319e-03, -1.9052e-02, -6.0757e-02,  3.6210e-02,  6.1632e-02,\n",
            "         -3.1486e-02, -3.8933e-02,  2.6012e-02, -2.0354e-02,  6.1834e-02,\n",
            "         -1.9225e-02, -6.0676e-02,  2.7112e-03,  5.9120e-02,  4.6205e-02,\n",
            "         -4.0458e-03, -3.1495e-02, -2.2306e-02,  5.2437e-02,  5.4307e-02,\n",
            "         -4.8758e-02,  1.3910e-02, -5.7653e-02,  5.0253e-02,  6.2050e-02,\n",
            "         -1.7511e-02,  5.4932e-03,  5.5229e-02,  3.2594e-02, -6.0483e-02,\n",
            "         -8.9663e-03, -6.1096e-02, -2.9904e-02,  1.1654e-02, -3.1932e-02,\n",
            "         -2.2027e-02,  4.4946e-02,  7.4559e-03, -4.3450e-02, -6.0420e-02,\n",
            "         -4.8985e-02,  1.3157e-02,  4.0837e-02,  5.7028e-02, -4.1314e-02,\n",
            "         -4.5893e-02, -2.4496e-02,  1.2465e-02, -1.9490e-02,  3.0663e-02,\n",
            "          8.4446e-04, -3.2032e-02, -2.3926e-02,  5.4744e-02, -6.1484e-03,\n",
            "          2.6766e-02, -3.9147e-02, -4.6381e-02,  1.2739e-02,  5.1957e-02,\n",
            "          4.5514e-02, -2.2340e-04,  7.5677e-03,  2.0096e-02,  3.2914e-03,\n",
            "         -3.4206e-02, -1.2871e-02,  5.6877e-02, -3.6803e-02,  8.0811e-03,\n",
            "          3.0625e-02, -1.1126e-03,  1.0509e-02,  3.0707e-02, -2.3062e-02,\n",
            "          2.3257e-02,  5.6714e-02,  3.1301e-02, -4.9668e-02,  4.7526e-02,\n",
            "         -4.3821e-02,  4.0230e-02, -1.0708e-03, -2.1316e-02,  2.1172e-02,\n",
            "         -4.9516e-02, -2.1919e-02, -5.4333e-02,  3.0791e-02,  1.1315e-02,\n",
            "         -3.5578e-02,  2.8389e-02,  5.5572e-02, -8.2649e-03, -1.7077e-02,\n",
            "         -1.8771e-02, -4.8051e-02, -2.0920e-02,  1.7740e-02, -4.2879e-02,\n",
            "          1.4638e-02, -2.7632e-02,  1.4860e-02,  4.9962e-02, -2.9143e-02,\n",
            "          6.1058e-03, -3.3469e-02,  2.6889e-02, -5.8922e-02,  1.2089e-03,\n",
            "         -3.4654e-02, -5.0948e-02, -1.8210e-02, -5.0633e-02, -1.6702e-02,\n",
            "          1.9156e-02, -2.0913e-02,  1.5624e-02,  6.2041e-03, -4.9310e-02,\n",
            "          4.3385e-02, -8.4191e-03, -5.5749e-02,  1.1391e-02,  2.4023e-02,\n",
            "         -3.3712e-02,  5.4852e-02,  4.1710e-02, -4.0430e-02, -3.9720e-02,\n",
            "          5.0905e-02,  5.5588e-02, -1.4253e-03,  4.3414e-02,  2.3753e-02,\n",
            "         -4.6010e-02,  3.3561e-02,  5.5748e-02, -3.8307e-02, -3.3969e-02,\n",
            "         -1.7546e-02,  1.5487e-02,  5.9676e-02,  4.3578e-02,  3.1451e-02,\n",
            "         -4.5329e-02,  2.5522e-02,  3.8067e-03,  5.9795e-02,  6.1592e-02,\n",
            "          8.6197e-03]], grad_fn=<SliceBackward0>) \n",
            "\n",
            "Layer: fc1.bias | Size: torch.Size([120]) | Values : tensor([ 0.0326, -0.0404], grad_fn=<SliceBackward0>) \n",
            "\n",
            "Layer: fc2.weight | Size: torch.Size([84, 120]) | Values : tensor([[-0.0876,  0.0410, -0.0392, -0.0766,  0.0742,  0.0238,  0.0463,  0.0111,\n",
            "          0.0482, -0.0307,  0.0635,  0.0574,  0.0383, -0.0360, -0.0249,  0.0644,\n",
            "         -0.0481, -0.0904,  0.0487,  0.0117,  0.0290, -0.0345, -0.0368,  0.0404,\n",
            "          0.0391, -0.0638, -0.0109, -0.0449, -0.0720,  0.0413, -0.0324,  0.0598,\n",
            "         -0.0287, -0.0207, -0.0517, -0.0160,  0.0217, -0.0025,  0.0660,  0.0652,\n",
            "          0.0626, -0.0032,  0.0092,  0.0141,  0.0293, -0.0230, -0.0549, -0.0708,\n",
            "         -0.0194, -0.0720, -0.0426,  0.0084,  0.0067,  0.0407, -0.0308, -0.0885,\n",
            "          0.0430,  0.0622,  0.0544,  0.0332,  0.0397,  0.0666,  0.0002,  0.0193,\n",
            "         -0.0230, -0.0054, -0.0054,  0.0813,  0.0088, -0.0667, -0.0454, -0.0345,\n",
            "          0.0695, -0.0054,  0.0330, -0.0386, -0.0346, -0.0781, -0.0454,  0.0219,\n",
            "          0.0376,  0.0004, -0.0152,  0.0636,  0.0049, -0.0155, -0.0327,  0.0286,\n",
            "         -0.0492, -0.0678, -0.0112,  0.0424, -0.0787,  0.0100,  0.0762, -0.0040,\n",
            "          0.0260,  0.0039,  0.0159,  0.0227, -0.0013, -0.0464,  0.0591, -0.0622,\n",
            "         -0.0735,  0.0728, -0.0363, -0.0627, -0.0131,  0.0091,  0.0728,  0.0805,\n",
            "          0.0169,  0.0481,  0.0636, -0.0826, -0.0410, -0.0780, -0.0233, -0.0285],\n",
            "        [-0.0398,  0.0750,  0.0617, -0.0245, -0.0436, -0.0144, -0.0750,  0.0895,\n",
            "          0.0706,  0.0482, -0.0774,  0.0328,  0.0125,  0.0234,  0.0277, -0.0462,\n",
            "          0.0207, -0.0131,  0.0036,  0.0572, -0.0884,  0.0047,  0.0147, -0.0391,\n",
            "          0.0732, -0.0298,  0.0295, -0.0355,  0.0906,  0.0876,  0.0331, -0.0803,\n",
            "          0.0779,  0.0195, -0.0693, -0.0699, -0.0588,  0.0124,  0.0195, -0.0345,\n",
            "         -0.0521,  0.0182,  0.0897, -0.0818, -0.0211, -0.0864,  0.0430,  0.0127,\n",
            "          0.0778, -0.0866, -0.0211,  0.0748,  0.0846,  0.0380,  0.0523,  0.0818,\n",
            "          0.0816,  0.0111,  0.0643, -0.0067, -0.0771,  0.0096,  0.0902, -0.0807,\n",
            "          0.0528, -0.0022, -0.0303,  0.0085, -0.0718,  0.0517,  0.0365, -0.0162,\n",
            "         -0.0401,  0.0155,  0.0031,  0.0444,  0.0792,  0.0843, -0.0567, -0.0234,\n",
            "         -0.0186,  0.0358,  0.0884, -0.0479,  0.0016,  0.0440, -0.0012,  0.0087,\n",
            "         -0.0657, -0.0466, -0.0813, -0.0318,  0.0816,  0.0829,  0.0235,  0.0493,\n",
            "          0.0129, -0.0090, -0.0242, -0.0592,  0.0285, -0.0571,  0.0539, -0.0422,\n",
            "         -0.0157, -0.0042, -0.0057, -0.0170,  0.0449, -0.0428, -0.0751,  0.0843,\n",
            "          0.0550, -0.0590, -0.0189, -0.0222, -0.0861,  0.0409, -0.0524,  0.0755]],\n",
            "       grad_fn=<SliceBackward0>) \n",
            "\n",
            "Layer: fc2.bias | Size: torch.Size([84]) | Values : tensor([-0.0586,  0.0816], grad_fn=<SliceBackward0>) \n",
            "\n",
            "Layer: fc3.weight | Size: torch.Size([10, 84]) | Values : tensor([[ 0.0792, -0.0547,  0.0552,  0.0461,  0.0277, -0.0448,  0.0829,  0.0224,\n",
            "         -0.0337, -0.0065,  0.0611,  0.1019, -0.0416,  0.0178,  0.0390, -0.0394,\n",
            "         -0.0447,  0.0466, -0.0513, -0.0092, -0.0577, -0.0335,  0.0256,  0.0699,\n",
            "         -0.0329, -0.0724,  0.0966, -0.0065,  0.0564,  0.0396,  0.0583, -0.0790,\n",
            "         -0.0599, -0.0227, -0.0638,  0.0291, -0.0922,  0.0444,  0.0532,  0.0682,\n",
            "         -0.0217, -0.1048, -0.0816,  0.1055, -0.0976,  0.0660, -0.0401, -0.0529,\n",
            "         -0.0226, -0.0598, -0.0725, -0.0263,  0.0076,  0.0186,  0.0371,  0.0720,\n",
            "         -0.0939, -0.0095,  0.0144, -0.0605,  0.1085, -0.0586, -0.0555, -0.0485,\n",
            "         -0.0360,  0.0138, -0.0993, -0.0368,  0.0159, -0.0216, -0.0514,  0.1046,\n",
            "          0.1021,  0.0836,  0.0881,  0.0727, -0.0824, -0.0255,  0.0160, -0.0629,\n",
            "         -0.0753,  0.1004,  0.0093,  0.1042],\n",
            "        [ 0.1040,  0.0863, -0.0816, -0.0465,  0.0065,  0.0727,  0.0228,  0.0989,\n",
            "          0.0365, -0.0987, -0.0992,  0.0802,  0.0081,  0.0472, -0.0540, -0.0535,\n",
            "         -0.0849,  0.0387, -0.0997,  0.1012,  0.1049, -0.0138,  0.0840, -0.0822,\n",
            "          0.0585, -0.1067, -0.0971, -0.0958, -0.0622,  0.0747,  0.0101, -0.0460,\n",
            "         -0.0053, -0.0598, -0.0893, -0.0008, -0.0196, -0.1028, -0.0602,  0.0611,\n",
            "          0.1075,  0.0213,  0.0562, -0.0546, -0.1034, -0.0518,  0.0347, -0.0751,\n",
            "         -0.1073, -0.0006, -0.0032,  0.0083,  0.0156,  0.0567, -0.0841, -0.0697,\n",
            "          0.0911, -0.0871, -0.0221, -0.0965, -0.0253, -0.0977, -0.0238,  0.0421,\n",
            "          0.0032,  0.0109, -0.0312,  0.1034,  0.0367,  0.0868, -0.0289, -0.0564,\n",
            "         -0.0229,  0.0109,  0.0665, -0.0754,  0.0296,  0.0659, -0.0284,  0.0529,\n",
            "         -0.0021,  0.0685,  0.0814,  0.0032]], grad_fn=<SliceBackward0>) \n",
            "\n",
            "Layer: fc3.bias | Size: torch.Size([10]) | Values : tensor([ 0.0349, -0.0454], grad_fn=<SliceBackward0>) \n",
            "\n"
          ]
        }
      ]
    },
    {
      "cell_type": "markdown",
      "source": [
        "Loss Criterion and Optimizer"
      ],
      "metadata": {
        "id": "IUJEcA9DrUVj"
      }
    },
    {
      "cell_type": "code",
      "source": [
        "#loss function\n",
        "criterion = nn.CrossEntropyLoss()\n",
        "\n",
        "#specify optimizer\n",
        "optimizer = torch.optim.SGD(net.parameters(), lr=0.001, momentum=0.9)"
      ],
      "metadata": {
        "id": "45QwrcJzmgQH"
      },
      "execution_count": 13,
      "outputs": []
    },
    {
      "cell_type": "code",
      "source": [
        "epochs = 15\n",
        "\n",
        "# Loss history\n",
        "train_losses_history = list()\n",
        "val_losses_history = list()\n",
        "\n",
        "for epoch in range(epochs):\n",
        "    net.train()\n",
        "    train_losses = 0.0\n",
        "    train_correct = 0\n",
        "    for i, data in enumerate(train_dataloader):\n",
        "        # data is a list of [inputs, labels]\n",
        "        inputs, labels = data\n",
        "\n",
        "        # Pass to GPU if available.\n",
        "        inputs, labels = inputs.to(device), labels.to(device)\n",
        "\n",
        "        optimizer.zero_grad()\n",
        "\n",
        "        outputs = net(inputs)\n",
        "        loss = criterion(outputs, labels)\n",
        "        loss.backward()\n",
        "        optimizer.step()\n",
        "\n",
        "        _, preds = torch.max(outputs.data, 1)\n",
        "        train_correct += (preds == labels).float().mean().item()\n",
        "        train_losses += loss.item()\n",
        "    print(f'Epoch {epoch + 1} training accuracy: {train_correct/len(train_dataloader):.2f}% training loss: {train_losses/len(train_dataloader):.5f}')\n",
        "    train_losses_history.append(train_losses/len(train_dataloader))\n",
        "\n",
        "\n",
        "    val_loss = 0.0\n",
        "    val_correct = 0\n",
        "    net.eval()\n",
        "    for inputs, labels in test_dataloader:\n",
        "        inputs, labels = inputs.to(device), labels.to(device)\n",
        "\n",
        "        outputs = net(inputs)\n",
        "        loss = criterion(outputs, labels)\n",
        "\n",
        "        _, preds = torch.max(outputs.data, 1)\n",
        "        val_correct += (preds == labels).float().mean().item()\n",
        "        val_loss += loss.item()\n",
        "    print(f'Epoch {epoch + 1} validation accuracy: {val_correct/len(test_dataloader):.2f}% validation loss: {val_loss/len(test_dataloader):.5f}')\n",
        "    val_losses_history.append(val_loss/len(test_dataloader))"
      ],
      "metadata": {
        "colab": {
          "base_uri": "https://localhost:8080/"
        },
        "id": "bUdtHm7m3Ie_",
        "outputId": "e261b4f2-f426-47c2-a1c8-d76f578ab42a"
      },
      "execution_count": 14,
      "outputs": [
        {
          "output_type": "stream",
          "name": "stdout",
          "text": [
            "Epoch 1 training accuracy: 0.11% training loss: 2.29677\n",
            "Epoch 1 validation accuracy: 0.18% validation loss: 2.28599\n",
            "Epoch 2 training accuracy: 0.38% training loss: 2.02915\n",
            "Epoch 2 validation accuracy: 0.60% validation loss: 1.13425\n",
            "Epoch 3 training accuracy: 0.66% training loss: 0.88151\n",
            "Epoch 3 validation accuracy: 0.70% validation loss: 0.78240\n",
            "Epoch 4 training accuracy: 0.72% training loss: 0.71724\n",
            "Epoch 4 validation accuracy: 0.74% validation loss: 0.68523\n",
            "Epoch 5 training accuracy: 0.75% training loss: 0.65577\n",
            "Epoch 5 validation accuracy: 0.75% validation loss: 0.65158\n",
            "Epoch 6 training accuracy: 0.77% training loss: 0.60999\n",
            "Epoch 6 validation accuracy: 0.78% validation loss: 0.60023\n",
            "Epoch 7 training accuracy: 0.78% training loss: 0.57097\n",
            "Epoch 7 validation accuracy: 0.77% validation loss: 0.59151\n",
            "Epoch 8 training accuracy: 0.80% training loss: 0.54149\n",
            "Epoch 8 validation accuracy: 0.80% validation loss: 0.54706\n",
            "Epoch 9 training accuracy: 0.81% training loss: 0.51738\n",
            "Epoch 9 validation accuracy: 0.81% validation loss: 0.52092\n",
            "Epoch 10 training accuracy: 0.82% training loss: 0.49738\n",
            "Epoch 10 validation accuracy: 0.82% validation loss: 0.50799\n",
            "Epoch 11 training accuracy: 0.82% training loss: 0.48134\n",
            "Epoch 11 validation accuracy: 0.82% validation loss: 0.49218\n",
            "Epoch 12 training accuracy: 0.83% training loss: 0.46648\n",
            "Epoch 12 validation accuracy: 0.83% validation loss: 0.46983\n",
            "Epoch 13 training accuracy: 0.84% training loss: 0.45321\n",
            "Epoch 13 validation accuracy: 0.83% validation loss: 0.46804\n",
            "Epoch 14 training accuracy: 0.84% training loss: 0.43934\n",
            "Epoch 14 validation accuracy: 0.84% validation loss: 0.46598\n",
            "Epoch 15 training accuracy: 0.84% training loss: 0.42793\n",
            "Epoch 15 validation accuracy: 0.84% validation loss: 0.44296\n"
          ]
        }
      ]
    },
    {
      "cell_type": "code",
      "source": [
        "# Train Loss\n",
        "plt.plot(train_losses_history, label='Training Loss')\n",
        "plt.xlabel('Epoch')\n",
        "plt.ylabel('Loss')\n",
        "plt.title('Training Loss')\n",
        "plt.legend()\n",
        "plt.show()\n",
        "\n",
        "# Validation Loss\n",
        "plt.plot(val_losses_history, label='Validation Loss')\n",
        "plt.xlabel('Epoch')\n",
        "plt.ylabel('Loss')\n",
        "plt.title('Validation Loss')\n",
        "plt.legend()\n",
        "plt.show()"
      ],
      "metadata": {
        "colab": {
          "base_uri": "https://localhost:8080/",
          "height": 927
        },
        "id": "_KnCsbQGGmS5",
        "outputId": "b1645cea-6c04-40f0-fe83-e5044dfc0070"
      },
      "execution_count": 15,
      "outputs": [
        {
          "output_type": "display_data",
          "data": {
            "text/plain": [
              "<Figure size 640x480 with 1 Axes>"
            ],
            "image/png": "[encoded data removed]"
          },
          "metadata": {}
        },
        {
          "output_type": "display_data",
          "data": {
            "text/plain": [
              "<Figure size 640x480 with 1 Axes>"
            ],
            "image/png": "[encoded data removed]"
          },
          "metadata": {}
        }
      ]
    },
    {
      "cell_type": "markdown",
      "source": [
        "# Test the Model"
      ],
      "metadata": {
        "id": "NS0nqMlVLPgQ"
      }
    },
    {
      "cell_type": "code",
      "source": [
        "right = 0\n",
        "total = 0\n",
        "\n",
        "# model to evaluation mode\n",
        "net.eval()\n",
        "\n",
        "# Iterate over the test dataset\n",
        "for images, labels in test_dataloader:\n",
        "    images, labels = images.to(device), labels.to(device)\n",
        "\n",
        "    # Forward pass\n",
        "    outputs = net(images)\n",
        "\n",
        "    # Get predictions\n",
        "    _, predicted = torch.max(outputs.data, 1)\n",
        "\n",
        "    # Update total number of samples\n",
        "    total += labels.size(0)\n",
        "\n",
        "    # Update number of correct predictions\n",
        "    right += (predicted == labels).sum().item()\n",
        "\n",
        "# Compute accuracy\n",
        "accuracy = 100 * right / total\n",
        "\n",
        "print(f'Accuracy on the test set: {accuracy:.2f}%')"
      ],
      "metadata": {
        "colab": {
          "base_uri": "https://localhost:8080/"
        },
        "id": "3ebgrHsEHmAy",
        "outputId": "bd613c79-b7f8-4594-be79-268138115aa4"
      },
      "execution_count": 16,
      "outputs": [
        {
          "output_type": "stream",
          "name": "stdout",
          "text": [
            "Accuracy on the test set: 84.26%\n"
          ]
        }
      ]
    },
    {
      "cell_type": "markdown",
      "source": [
        "# Save the Model"
      ],
      "metadata": {
        "id": "I2ReRMWLLdL5"
      }
    },
    {
      "cell_type": "code",
      "source": [
        "model_path = 'trained_model.pth'\n",
        "\n",
        "# Save the model\n",
        "torch.save(net.state_dict(), model_path)\n",
        "print(f'Model saved to {model_path}')"
      ],
      "metadata": {
        "colab": {
          "base_uri": "https://localhost:8080/"
        },
        "id": "ztj-GjvqLgiu",
        "outputId": "54272b83-c339-40cc-d072-b79cba5d2058"
      },
      "execution_count": 17,
      "outputs": [
        {
          "output_type": "stream",
          "name": "stdout",
          "text": [
            "Model saved to trained_model.pth\n"
          ]
        }
      ]
    }
  ]
}