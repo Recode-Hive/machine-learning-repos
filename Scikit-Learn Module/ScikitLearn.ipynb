{
  "nbformat": 4,
  "nbformat_minor": 0,
  "metadata": {
    "colab": {
      "provenance": []
    },
    "kernelspec": {
      "name": "python3",
      "display_name": "Python 3"
    },
    "language_info": {
      "name": "python"
    }
  },
  "cells": [
    {
      "cell_type": "markdown",
      "source": [
        "<h2><b>Scikit-Learn Module</b></h2>\n",
        "\n",
        "\n",
        "\n",
        "> Unlock the Power of Machine Learning with Scikit-learn: Simplifying Complexity, Empowering Discovery\n",
        "\n",
        "To install scikit-learn module :[Click Me](https://scikit-learn.org/stable/install.html)\n",
        "\n",
        "\n"
      ],
      "metadata": {
        "id": "JTCUuMDrAmdQ"
      }
    },
    {
      "cell_type": "markdown",
      "source": [
        "<b>Supervised Learning</b>\n",
        "\n",
        "\n",
        "\n",
        "*   Linear Models\n",
        "*   Support Vector Machines\n",
        "\n",
        "*   Data Preprocessing\n",
        "\n",
        "\n",
        "\n",
        "\n",
        "\n",
        "\n",
        "\n"
      ],
      "metadata": {
        "id": "wUzYCgSeAmyI"
      }
    },
    {
      "cell_type": "markdown",
      "source": [
        "<b>Linear Models</b>\n",
        "The following are a set of methods intended for regression in which the target value is expected to be a linear combination of the features. In mathematical notation, if $\\hat{y}$ is the predicted value.\n",
        "                \n",
        "**$\\hat{y}$(w,x) = w<sub>0</sub> + w<sub>1</sub> + . . . + w<sub>p</sub>**\n",
        "\n",
        "Across the module, we designate the vector w = (w<sub>0</sub> ,w<sub>1</sub> , ...w<sub>n</sub>) as coef_ and w<sub>0</sub> as intercept_ .\n",
        "             \n",
        "\n",
        "\n",
        "\n",
        "\n",
        "\n",
        "\n"
      ],
      "metadata": {
        "id": "mifMiNgzDOTw"
      }
    },
    {
      "cell_type": "markdown",
      "source": [
        "<b>Linear Regression</b>\n",
        "\n",
        "Linear Regression fits a linear model with coefficients w = (w0 ,w1 , ...wn)\n",
        "to minimize the residual sum of squares between the observed targets in the dataset, and the targets predicted by the linear approximation. Mathematically it solves a problem of the form:\n",
        "\n",
        "$\\min_{w} || X w - y||_2^2$\n",
        "\n",
        "\n",
        "\n",
        "\n"
      ],
      "metadata": {
        "id": "rBNUWZe-HTKH"
      }
    },
    {
      "cell_type": "code",
      "source": [
        "from sklearn import linear_model\n",
        "reg = linear_model.LinearRegression() #To Use Linear Regression\n",
        "reg.fit([[0, 0], [1, 1], [2, 2]], [0, 1, 2])\n",
        "coefficients = reg.coef_\n",
        "intercept = reg.intercept_\n",
        "\n",
        "print(\"Coefficients:\", coefficients)\n",
        "print(\"Intercept:\", intercept)"
      ],
      "metadata": {
        "colab": {
          "base_uri": "https://localhost:8080/"
        },
        "id": "bNowgxvsIId2",
        "outputId": "574aa8ec-45a9-4cca-d352-9bb575c1eb5f"
      },
      "execution_count": null,
      "outputs": [
        {
          "output_type": "stream",
          "name": "stdout",
          "text": [
            "Coefficients: [0.5 0.5]\n",
            "Intercept: 1.1102230246251565e-16\n"
          ]
        }
      ]
    },
    {
      "cell_type": "markdown",
      "source": [
        "![Linear Regression](https://scikit-learn.org/stable/_images/sphx_glr_plot_ols_001.png)\n",
        "\n",
        "This is how the Linear Regression fits the line .\n"
      ],
      "metadata": {
        "id": "RZNsCLu2IqT0"
      }
    },
    {
      "cell_type": "markdown",
      "source": [
        "<b>Support Vector Machine</b>\n",
        "\n",
        "Support vector machines (SVMs) are a set of supervised learning methods used for classification, regression and outliers detection.\n",
        "\n",
        "*The advantages of support vector machines are:*\n",
        "\n",
        "Effective in high dimensional spaces.\n",
        "\n",
        "Still effective in cases where number of dimensions is greater than the number of samples.\n",
        "\n",
        "Uses a subset of training points in the decision function (called support vectors), so it is also memory efficient.\n",
        "\n",
        "Versatile: different Kernel functions can be specified for the decision function. Common kernels are provided, but it is also possible to specify custom kernels.\n",
        "\n",
        "*The disadvantages of support vector machines include:*\n",
        "\n",
        "If the number of features is much greater than the number of samples, avoid over-fitting in choosing Kernel functions and regularization term is crucial.\n",
        "\n",
        "SVMs do not directly provide probability estimates, these are calculated using an expensive five-fold cross-validation (see Scores and probabilities, below).\n",
        "\n",
        "The support vector machines in scikit-learn support both dense (numpy.ndarray and convertible to that by numpy.asarray) and sparse (any scipy.sparse) sample vectors as input. However, to use an SVM to make predictions for sparse data, it must have been fit on such data. For optimal performance, use C-ordered numpy.ndarray (dense) or scipy.sparse.csr_matrix (sparse) with dtype=float64"
      ],
      "metadata": {
        "id": "kuf1LjfSJiF4"
      }
    },
    {
      "cell_type": "markdown",
      "source": [
        "**Linear Kernel:**\n",
        "\n",
        "Function:\n",
        "𝐾\n",
        "(\n",
        "𝑥\n",
        ",\n",
        "𝑦\n",
        ")\n",
        "=\n",
        "𝑥\n",
        "𝑇\n",
        "𝑦\n",
        "\n",
        "\n",
        " Parameters: No additional parameters.\n",
        "\n",
        "**Polynomial Kernel:**\n",
        "\n",
        "Function:\n",
        "𝐾\n",
        "(\n",
        "𝑥\n",
        ",\n",
        "𝑦\n",
        ")\n",
        "=\n",
        "(\n",
        "𝛾\n",
        "𝑥\n",
        "𝑇\n",
        "𝑦\n",
        "+\n",
        "𝑟\n",
        ")\n",
        "𝑑\n",
        "\n",
        "Parameters:\n",
        "\n",
        "γ (gamma): Coefficient for the polynomial term. Higher values increase the influence of high-degree polynomials.\n",
        "\n",
        "r: Coefficient for the constant term.\n",
        "\n",
        "d: Degree of the polynomial.\n",
        "\n",
        "**Radial Basis Function (RBF) Kernel:**\n",
        "\n",
        "Function:\n",
        "𝐾\n",
        "(\n",
        "𝑥\n",
        ",\n",
        "𝑦\n",
        ")\n",
        "=\n",
        "exp\n",
        "⁡\n",
        "(\n",
        "−\n",
        "𝛾\n",
        "∣\n",
        "∣\n",
        "𝑥\n",
        "−\n",
        "𝑦\n",
        "∣\n",
        "∣\n",
        "2\n",
        ")\n",
        "\n",
        "Parameters:\n",
        "𝛾\n",
        "γ (gamma): Controls the influence of each training example. Higher values result in a more complex decision boundary.\n",
        "\n",
        "**Sigmoid Kernel:**\n",
        "\n",
        "Function:\n",
        "𝐾\n",
        "(\n",
        "𝑥\n",
        ",\n",
        "𝑦\n",
        ")\n",
        "=\n",
        "tanh\n",
        "⁡\n",
        "(\n",
        "𝛾\n",
        "𝑥\n",
        "𝑇\n",
        "𝑦\n",
        "+\n",
        "𝑟\n",
        ")\n",
        "\n",
        "Parameters:\n",
        "\n",
        "γ (gamma): Coefficient for the sigmoid term.\n",
        "\n",
        "r: Coefficient for the constant term."
      ],
      "metadata": {
        "id": "Qhigi2nBTGiO"
      }
    },
    {
      "cell_type": "code",
      "source": [
        "import numpy as np\n",
        "import matplotlib.pyplot as plt\n",
        "from sklearn import svm, datasets\n",
        "\n",
        "# Load example dataset (Iris dataset)\n",
        "iris = datasets.load_iris()\n",
        "X = iris.data[:, :2]  # We only take the first two features\n",
        "y = iris.target\n",
        "\n",
        "# Define the SVM model with RBF kernel\n",
        "C = 1.0  # Regularization parameter\n",
        "gamma = 0.7  # Kernel coefficient\n",
        "svm_model = svm.SVC(kernel='rbf', C=C, gamma=gamma)\n",
        "\n",
        "# Train the SVM model\n",
        "svm_model.fit(X, y)\n",
        "\n",
        "# Plot the decision boundary\n",
        "x_min, x_max = X[:, 0].min() - 1, X[:, 0].max() + 1\n",
        "y_min, y_max = X[:, 1].min() - 1, X[:, 1].max() + 1\n",
        "xx, yy = np.meshgrid(np.arange(x_min, x_max, 0.02),\n",
        "                     np.arange(y_min, y_max, 0.02))\n",
        "Z = svm_model.predict(np.c_[xx.ravel(), yy.ravel()])\n",
        "Z = Z.reshape(xx.shape)\n",
        "\n",
        "plt.contourf(xx, yy, Z, cmap=plt.cm.Paired, alpha=0.8)\n",
        "\n",
        "# Plot the training points\n",
        "plt.scatter(X[:, 0], X[:, 1], c=y, cmap=plt.cm.Paired)\n",
        "plt.xlabel('Sepal length')\n",
        "plt.ylabel('Sepal width')\n",
        "plt.title('SVM with RBF Kernel')\n",
        "plt.show()\n"
      ],
      "metadata": {
        "id": "9RN7ZwgDKCbW",
        "colab": {
          "base_uri": "https://localhost:8080/",
          "height": 472
        },
        "outputId": "34bf3921-35d0-40de-a0e4-8135b9f1590a"
      },
      "execution_count": null,
      "outputs": [
        {
          "output_type": "display_data",
          "data": {
            "text/plain": [
              "<Figure size 640x480 with 1 Axes>"
            ],
            "image/png": "[encoded data removed]"
          },
          "metadata": {}
        }
      ]
    },
    {
      "cell_type": "markdown",
      "source": [
        "<h2>Data Preprocessing</h2>\n",
        "Data preprocessing is a crucial step in the machine learning pipeline that involves transforming raw data into a format suitable for training a model. Here are some fundamental techniques in data preprocessing using scikit-learn:\n",
        "\n",
        "**Handling Missing Values:**\n",
        "\n",
        "Imputation: Replace missing values with a calculated value (e.g., mean, median, mode) using SimpleImputer.\n",
        "Removal: Remove rows or columns with missing values using dropna.\n",
        "\n",
        "**Feature Scaling:**\n",
        "\n",
        "Standardization: Scale features to have a mean of 0 and a standard deviation of 1 using StandardScaler.\n",
        "\n",
        "Normalization: Scale features to a range between 0 and 1 using MinMaxScaler.\n",
        "Encoding Categorical Variables:\n",
        "\n",
        "One-Hot Encoding: Convert categorical variables into binary vectors using OneHotEncoder.\n",
        "\n",
        "Label Encoding: Encode categorical variables as integers using LabelEncoder.\n",
        "\n",
        "**Feature Transformation:**\n",
        "\n",
        "Polynomial Features: Generate polynomial features up to a specified degree using PolynomialFeatures.\n",
        "\n",
        "Log Transformation: Transform features using the natural logarithm to handle skewed distributions.\n",
        "\n",
        "**Handling Outliers:**\n",
        "\n",
        "Detection: Identify outliers using statistical methods or domain knowledge.\n",
        "Transformation: Apply transformations (e.g., winsorization) or remove outliers based on a threshold.\n",
        "\n",
        "**Handling Imbalanced Data:**\n",
        "\n",
        "Resampling: Over-sample minority class or under-sample majority class to balance the dataset using techniques like RandomOverSampler or RandomUnderSampler.\n",
        "\n",
        "Synthetic Sampling: Generate synthetic samples for the minority class using algorithms like Synthetic Minority Over-sampling Technique (SMOTE).\n",
        "Feature Selection:\n",
        "\n",
        "Univariate Feature Selection: Select features based on statistical tests like ANOVA using SelectKBest or SelectPercentile.\n",
        "\n",
        "Recursive Feature Elimination: Select features recursively by considering smaller and smaller sets of features using RFECV.\n",
        "\n",
        "**Splitting Data:**\n",
        "\n",
        "Train-Test Split: Split the dataset into training and testing sets using train_test_split.\n",
        "\n",
        "Cross-Validation: Split the dataset into multiple folds for cross-validation using KFold or StratifiedKFold."
      ],
      "metadata": {
        "id": "a6WuXVMhVGrN"
      }
    }
  ]
}